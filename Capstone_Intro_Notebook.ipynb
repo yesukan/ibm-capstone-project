{
    "cells": [
        {
            "cell_type": "markdown", 
            "source": "this notebook will be mainly used for the capstone project", 
            "metadata": {
                "collapsed": true
            }
        }, 
        {
            "cell_type": "code", 
            "execution_count": 1, 
            "source": "import pandas as pd\nimport ", 
            "metadata": {}, 
            "outputs": [
                {
                    "text": "Waiting for a Spark session to start...\nSpark Initialization Done! ApplicationId = app-20180906103229-0000\n", 
                    "output_type": "stream", 
                    "name": "stdout"
                }
            ]
        }, 
        {
            "cell_type": "code", 
            "execution_count": null, 
            "source": "im", 
            "metadata": {}, 
            "outputs": []
        }
    ], 
    "nbformat_minor": 1, 
    "nbformat": 4, 
    "metadata": {
        "kernelspec": {
            "language": "python3", 
            "display_name": "Python 3.5 with Spark", 
            "name": "python3"
        }, 
        "language_info": {
            "file_extension": ".py", 
            "version": "3.5.4", 
            "mimetype": "text/x-python", 
            "nbconvert_exporter": "python", 
            "name": "python", 
            "pygments_lexer": "ipython3", 
            "codemirror_mode": {
                "version": 3, 
                "name": "ipython"
            }
        }
    }
}