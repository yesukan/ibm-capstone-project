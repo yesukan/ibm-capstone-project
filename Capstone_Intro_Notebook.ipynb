{
    "cells": [
        {
            "cell_type": "markdown", 
            "source": "this notebook will be mainly used for the capstone project", 
            "metadata": {
                "collapsed": true
            }
        }, 
        {
            "cell_type": "code", 
            "execution_count": 2, 
            "source": "import pandas as pd\nimport numpy as np", 
            "metadata": {}, 
            "outputs": []
        }, 
        {
            "cell_type": "code", 
            "execution_count": 3, 
            "source": "print(\"Hello Capstone Project Course!\")", 
            "metadata": {}, 
            "outputs": [
                {
                    "output_type": "stream", 
                    "text": "Hello Capstone Project Course!\n", 
                    "name": "stdout"
                }
            ]
        }, 
        {
            "cell_type": "code", 
            "execution_count": null, 
            "source": "", 
            "metadata": {}, 
            "outputs": []
        }
    ], 
    "nbformat": 4, 
    "metadata": {
        "kernelspec": {
            "language": "python3", 
            "display_name": "Python 3.5 with Spark", 
            "name": "python3"
        }, 
        "language_info": {
            "pygments_lexer": "ipython3", 
            "mimetype": "text/x-python", 
            "nbconvert_exporter": "python", 
            "name": "python", 
            "file_extension": ".py", 
            "version": "3.5.4", 
            "codemirror_mode": {
                "version": 3, 
                "name": "ipython"
            }
        }
    }, 
    "nbformat_minor": 1
}